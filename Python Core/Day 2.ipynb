{
 "cells": [
  {
   "cell_type": "markdown",
   "metadata": {},
   "source": [
    "# Q1 Given list of number nums and an integer target, return indices of the two consecutive numbers such that they add up to target.\n",
    "\n",
    "\n",
    "\n",
    "Example 1:\n",
    "\n",
    "Input: nums = [2,7,11,15], target = 9\n",
    "Output: [0,1]\n",
    "Output: Because nums[0] + nums[1] == 9, we return [0, 1].\n",
    "Example 2:\n",
    "\n",
    "Input: nums = [3,2,4], target = 6\n",
    "Output: [1,2]\n",
    "Example 3:\n",
    "\n",
    "Input: nums = [3,3], target = 6\n",
    "Output: [0,1]"
   ]
  },
  {
   "cell_type": "code",
   "execution_count": 9,
   "metadata": {},
   "outputs": [],
   "source": [
    "nums = [22,67,2,7]; target = 9"
   ]
  },
  {
   "cell_type": "code",
   "execution_count": 10,
   "metadata": {},
   "outputs": [
    {
     "name": "stdout",
     "output_type": "stream",
     "text": [
      "yes\n"
     ]
    }
   ],
   "source": [
    "# crude way not to be followed\n",
    "sum1=nums[0]+nums[1]\n",
    "if(sum1==target):\n",
    "    print(\"yes\")\n",
    "\n",
    "sum2=nums[1]+nums[2]\n",
    "if(sum2==target):\n",
    "    print(\"yes\")\n",
    "\n",
    "    \n",
    "sum3=nums[2]+nums[3]\n",
    "if(sum3==target):\n",
    "    print(\"yes\")\n"
   ]
  },
  {
   "cell_type": "code",
   "execution_count": 11,
   "metadata": {},
   "outputs": [
    {
     "name": "stdout",
     "output_type": "stream",
     "text": [
      "2 3\n"
     ]
    }
   ],
   "source": [
    "# Automated way by for loop to be followed\n",
    "length_oflist=len(nums)\n",
    "#print(length_oflist)\n",
    "sum1=0# initialization\n",
    "for i in range(length_oflist-1):\n",
    "    #print(\"position\",i,\"1st num\",nums[i],\"2nd num\",nums[i+1])\n",
    "    sum1=nums[i]+nums[i+1]\n",
    "    #print(sum1)\n",
    "    if(sum1==target):\n",
    "        print(i,i+1)\n",
    "        \n",
    "    #print(\"######\")\n"
   ]
  },
  {
   "cell_type": "markdown",
   "metadata": {},
   "source": [
    "# Homework\n",
    "Given a set of numbers return the indices of 2 numbers that adds up to target\n",
    "Input: nums = [2,11,13,7], target = 9 Output: [0,3] Output: Because nums[0] + nums[3] == 9, we return 0,3\n"
   ]
  },
  {
   "cell_type": "code",
   "execution_count": null,
   "metadata": {},
   "outputs": [],
   "source": []
  },
  {
   "cell_type": "code",
   "execution_count": null,
   "metadata": {},
   "outputs": [],
   "source": []
  }
 ],
 "metadata": {
  "kernelspec": {
   "display_name": "Python 3",
   "language": "python",
   "name": "python3"
  },
  "language_info": {
   "codemirror_mode": {
    "name": "ipython",
    "version": 3
   },
   "file_extension": ".py",
   "mimetype": "text/x-python",
   "name": "python",
   "nbconvert_exporter": "python",
   "pygments_lexer": "ipython3",
   "version": "3.8.5"
  }
 },
 "nbformat": 4,
 "nbformat_minor": 4
}
