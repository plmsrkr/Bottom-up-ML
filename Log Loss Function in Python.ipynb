{
 "cells": [
  {
   "cell_type": "code",
   "execution_count": 24,
   "metadata": {},
   "outputs": [],
   "source": [
    "import warnings\n",
    "warnings.filterwarnings('ignore')\n",
    "import scipy as sp\n",
    "import numpy as np\n",
    "\n",
    "\n",
    "def llfun(act, pred):\n",
    "    epsilon = 1e-15\n",
    "    pred = sp.maximum(epsilon, pred)\n",
    "    pred = sp.minimum(1-epsilon, pred)\n",
    "    ll = sum(act*sp.log(pred) + sp.subtract(1,act)*sp.log(sp.subtract(1,pred)))\n",
    "    ll = ll * -1.0/len(act)\n",
    "    return ll"
   ]
  },
  {
   "cell_type": "code",
   "execution_count": 25,
   "metadata": {},
   "outputs": [
    {
     "name": "stdout",
     "output_type": "stream",
     "text": [
      "0.09857257085949875\n"
     ]
    }
   ],
   "source": [
    "pred = [\n",
    "        [0.05,0.05,0.05,0.8,0.05],\n",
    "        [0.73,0.05,0.01,0.20,0.02],\n",
    "        [0.02,0.03,0.01,0.75,0.19],\n",
    "        [0.01,0.02,0.83,0.12,0.02]\n",
    "        ]\n",
    "act = [\n",
    "           [0,0,0,1,0],\n",
    "           [1,0,0,0,0],\n",
    "           [0,0,0,1,0],\n",
    "           [0,0,1,0,0]\n",
    "           ]\n",
    "\n",
    "scores = []\n",
    "for index in range(0, len(pred)):\n",
    "        result = llfun(act[index], pred[index])\n",
    "        scores.append(result)\n",
    "\n",
    "print(sum(scores) / len(scores)) \n"
   ]
  },
  {
   "cell_type": "markdown",
   "metadata": {},
   "source": [
    "# Comparing with sklearn implementation"
   ]
  },
  {
   "cell_type": "code",
   "execution_count": 26,
   "metadata": {},
   "outputs": [],
   "source": [
    "from sklearn.metrics import log_loss"
   ]
  },
  {
   "cell_type": "code",
   "execution_count": 27,
   "metadata": {},
   "outputs": [
    {
     "name": "stdout",
     "output_type": "stream",
     "text": [
      "0.09857257085949875\n"
     ]
    }
   ],
   "source": [
    "scores = []\n",
    "for index in range(0, len(pred)):\n",
    "        result = log_loss(act[index], pred[index])\n",
    "        scores.append(result)\n",
    "\n",
    "print(sum(scores) / len(scores)) \n"
   ]
  }
 ],
 "metadata": {
  "kernelspec": {
   "display_name": "Python 3",
   "language": "python",
   "name": "python3"
  },
  "language_info": {
   "codemirror_mode": {
    "name": "ipython",
    "version": 3
   },
   "file_extension": ".py",
   "mimetype": "text/x-python",
   "name": "python",
   "nbconvert_exporter": "python",
   "pygments_lexer": "ipython3",
   "version": "3.8.5"
  }
 },
 "nbformat": 4,
 "nbformat_minor": 4
}
